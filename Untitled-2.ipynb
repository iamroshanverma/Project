{
 "cells": [
  {
   "cell_type": "markdown",
   "metadata": {},
   "source": [
    "## Classification\n",
    "__income__"
   ]
  },
  {
   "cell_type": "code",
   "execution_count": 295,
   "metadata": {},
   "outputs": [],
   "source": [
    "import pandas as pd\n",
    "import numpy as np\n",
    "import matplotlib.pyplot as m\n",
    "import seaborn as sns\n",
    "from sklearn.model_selection import train_test_split\n",
    "from sklearn.linear_model import LogisticRegression\n",
    "from sklearn.metrics import accuracy_score,confusion_matrix\n",
    "from sklearn.preprocessing import LabelEncoder"
   ]
  },
  {
   "cell_type": "code",
   "execution_count": 233,
   "metadata": {},
   "outputs": [],
   "source": [
    "income_data=pd.read_csv('/Users/rkverma/Documents/income.csv')\n",
    "data=income_data.copy(deep=False)\n",
    "#data.info()\n",
    "t=data.isnull().sum()\n",
    "summery_num=data.describe()\n",
    "#print(summery_num)\n",
    "summery_cat=data.describe(include='object')\n",
    "#print(summery_cat)\n",
    "#data['JobType'].value_counts()\n",
    "#data['occupation'].value_counts()\n",
    "#print(np.unique(data['JobType']))\n",
    "data2=data.dropna(axis=0)\n",
    "correlation=data2.corr()"
   ]
  },
  {
   "cell_type": "code",
   "execution_count": null,
   "metadata": {},
   "outputs": [],
   "source": [
    "data2.columns\n",
    "#gender table\n",
    "gender=pd.crosstab(index=data2['gender'],columns='count',normalize=True)\n",
    "print(gender)"
   ]
  },
  {
   "cell_type": "code",
   "execution_count": null,
   "metadata": {},
   "outputs": [],
   "source": [
    "#gender vs salary\n",
    "gender_salstat=pd.crosstab(index=data2['gender'],columns=data2['SalStat'],margins=True,normalize='index')\n",
    "#SalStat=sns.countplot(data2['SalStat'])\n",
    "sns.displot(data2['age'],bins=10,kde=True)\n",
    "sns.boxplot('SalStat','age',data=data2)\n",
    "data2.groupby('SalStat')['age'].median()"
   ]
  },
  {
   "cell_type": "markdown",
   "metadata": {},
   "source": [
    "## Logistic regeression"
   ]
  },
  {
   "cell_type": "code",
   "execution_count": null,
   "metadata": {},
   "outputs": [],
   "source": [
    "data3=pd.read_csv('/Users/rkverma/Documents/income.csv',index_col=0)\n",
    "data3\n",
    "data3['SalStat']=data3['SalStat'].map({'  less than or equal to 50,0000':0,' greater than 50,000':int(1)})\n",
    "data3['SalStat'].fillna(0,inplace=True)\n",
    "data3=data3.astype({'SalStat':'int'})\n",
    "new_data=pd.get_dummies(data3,drop_first=True)\n",
    "#storing columns name store\n",
    "columns_list=list(new_data.columns)\n",
    "#depended variable\n",
    "features=list(set(columns_list)-set('SalStat'))\n",
    "#y-axis\n",
    "y=new_data['SalStat'].values\n",
    "#x-values\n",
    "x=new_data[features].values\n",
    "#splitting the data into train and test\n",
    "train_x,test_x,train_y,test_y=train_test_split(x,y,test_size=0.3,random_state=0)\n",
    "logistic=LogisticRegression()\n",
    "logistic.fit(train_x,train_y)\n",
    "logistic.intercept_\n",
    "logistic.coef_"
   ]
  },
  {
   "cell_type": "code",
   "execution_count": null,
   "metadata": {},
   "outputs": [],
   "source": [
    "prediction=logistic.predict(test_x)\n",
    "\n",
    "#confusion matrix\n",
    "confusion_matrix=confusion_matrix(test_y,prediction)\n",
    "accuracy_score=accuracy_score(test_y,prediction)\n",
    "accuracy_score\n",
    "#no of missclassification"
   ]
  },
  {
   "cell_type": "markdown",
   "metadata": {},
   "source": [
    "## NEW LOGISTIC REGRESSION__"
   ]
  },
  {
   "cell_type": "code",
   "execution_count": 286,
   "metadata": {},
   "outputs": [
    {
     "name": "stderr",
     "output_type": "stream",
     "text": [
      "/Users/rkverma/opt/anaconda3/lib/python3.9/site-packages/sklearn/linear_model/_logistic.py:814: ConvergenceWarning: lbfgs failed to converge (status=1):\n",
      "STOP: TOTAL NO. of ITERATIONS REACHED LIMIT.\n",
      "\n",
      "Increase the number of iterations (max_iter) or scale the data as shown in:\n",
      "    https://scikit-learn.org/stable/modules/preprocessing.html\n",
      "Please also refer to the documentation for alternative solver options:\n",
      "    https://scikit-learn.org/stable/modules/linear_model.html#logistic-regression\n",
      "  n_iter_i = _check_optimize_result(\n"
     ]
    },
    {
     "data": {
      "text/plain": [
       "1.0"
      ]
     },
     "execution_count": 286,
     "metadata": {},
     "output_type": "execute_result"
    }
   ],
   "source": [
    "path=pd.read_csv('/Users/rkverma/Documents/income.csv',index_col=0)\n",
    "path['SalStat']=path['SalStat'].map({' less than or equal to 50,000':0,' greater than 50,000':1})\n",
    "#insignificant columns\n",
    "cols=['gender','nativecountry','JobType','race']\n",
    "new_data=path.drop(cols,axis=1)\n",
    "new_data=pd.get_dummies(new_data,drop_first=True)\n",
    "columns_list=new_data.columns\n",
    "features=list(set(columns_list)-set('SAlStat'))\n",
    "x=new_data[features].values\n",
    "y=new_data['SalStat'].values\n",
    "logistic=LogisticRegression()\n",
    "train_x,test_x,train_y,test_y=train_test_split(train_x,train_y,test_size=0.3,random_state=0)\n",
    "logistic.fit(train_x,train_y)\n",
    "prediction=logistic.predict(test_x)\n",
    "confusion_matrix=confusion_matrix(test_y,prediction)\n",
    "confusion_matrix\n",
    "accuracy_score=accuracy_score(test_y,prediction)\n",
    "accuracy_score"
   ]
  },
  {
   "cell_type": "markdown",
   "metadata": {},
   "source": [
    "## KNN\n",
    "k nearest neighbour"
   ]
  },
  {
   "cell_type": "code",
   "execution_count": 287,
   "metadata": {},
   "outputs": [],
   "source": [
    "from sklearn.neighbors import KNeighborsClassifier\n",
    "import matplotlib.pyplot as plt"
   ]
  },
  {
   "cell_type": "code",
   "execution_count": 296,
   "metadata": {},
   "outputs": [
    {
     "name": "stdout",
     "output_type": "stream",
     "text": [
      "[[300   6]\n",
      " [ 28  53]]\n"
     ]
    },
    {
     "data": {
      "text/plain": [
       "0.9121447028423773"
      ]
     },
     "execution_count": 296,
     "metadata": {},
     "output_type": "execute_result"
    }
   ],
   "source": [
    "KNN_classification=KNeighborsClassifier(n_neighbors=16)\n",
    "KNN_classification.fit(train_x,train_y)\n",
    "prediction=KNN_classification.predict(test_x)\n",
    "confusion_matrix=confusion_matrix(test_y,prediction)\n",
    "print(confusion_matrix)\n",
    "accuracy_score=accuracy_score(test_y,prediction)\n",
    "accuracy_score"
   ]
  },
  {
   "cell_type": "code",
   "execution_count": 297,
   "metadata": {},
   "outputs": [
    {
     "name": "stdout",
     "output_type": "stream",
     "text": [
      "misc samples:34\n"
     ]
    }
   ],
   "source": [
    "print('misc samples:%d'% (test_y!=prediction).sum())"
   ]
  }
 ],
 "metadata": {
  "interpreter": {
   "hash": "57b5d0518a21f7c93612f7fca18a27c42e70170109f2139c3ad691332e5f5650"
  },
  "kernelspec": {
   "display_name": "Python 3.9.12 ('base')",
   "language": "python",
   "name": "python3"
  },
  "language_info": {
   "codemirror_mode": {
    "name": "ipython",
    "version": 3
   },
   "file_extension": ".py",
   "mimetype": "text/x-python",
   "name": "python",
   "nbconvert_exporter": "python",
   "pygments_lexer": "ipython3",
   "version": "3.9.12"
  },
  "orig_nbformat": 4
 },
 "nbformat": 4,
 "nbformat_minor": 2
}
